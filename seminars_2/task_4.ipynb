{
 "cells": [
  {
   "attachments": {},
   "cell_type": "markdown",
   "metadata": {},
   "source": [
    "**Задание 4**\n",
    "\n",
    "В первом ящике находится 10 мячей, из которых 7 - белые. Во втором ящике - 11 мячей, из которых 9 белых. Из каждого ящика вытаскивают случайным образом по два мяча. Какова вероятность того, что все мячи белые? Какова вероятность того, что ровно два мяча белые? Какова вероятность того, что хотя бы один мяч белый?"
   ]
  },
  {
   "attachments": {},
   "cell_type": "markdown",
   "metadata": {},
   "source": [
    "4.1 Какова вероятность того, что все мячи белые?:"
   ]
  },
  {
   "cell_type": "code",
   "execution_count": 13,
   "metadata": {},
   "outputs": [],
   "source": [
    "from numpy import math as npm"
   ]
  },
  {
   "cell_type": "code",
   "execution_count": 14,
   "metadata": {},
   "outputs": [],
   "source": [
    "n_1 = 10\n",
    "n_2 = 11\n",
    "m_1 = 7\n",
    "m_2 = 9"
   ]
  },
  {
   "cell_type": "code",
   "execution_count": 15,
   "metadata": {},
   "outputs": [],
   "source": [
    "def f(n, k):\n",
    "    return npm.factorial(n) // (npm.factorial(k) * npm.factorial(n - k))"
   ]
  },
  {
   "cell_type": "code",
   "execution_count": 16,
   "metadata": {},
   "outputs": [],
   "source": [
    "ck_1 = f(n_1, 2) # комбинация из 2х шар. ящ. 1 \n",
    "ck_2 = f(n_2, 2) # комбинация из 2х шар. ящ. 2 \n",
    "c_1 = f(m_1, 2) # комбинация из 2х бел. шар. ящ. 1\n",
    "c_2 = f(m_2, 2) # комбинация из 2х бел. шар. ящ. 2"
   ]
  },
  {
   "cell_type": "code",
   "execution_count": 17,
   "metadata": {},
   "outputs": [
    {
     "name": "stdout",
     "output_type": "stream",
     "text": [
      "0.3054545454545455\n"
     ]
    }
   ],
   "source": [
    "p_1 = c_1 / ck_1 # вероятность вытащить 2 бел шар из ящ 1\n",
    "p_2 = c_2 / ck_2 # вероятность вытащить 2 бел шар из ящ 2\n",
    "\n",
    "res = p_1 * p_2 # Вероятность вытащить 4 белые из 2х ящ\n",
    "print(res)"
   ]
  },
  {
   "attachments": {},
   "cell_type": "markdown",
   "metadata": {},
   "source": [
    "4.3 Какова вероятность того, что хотя бы один мяч белый?:"
   ]
  },
  {
   "cell_type": "code",
   "execution_count": 26,
   "metadata": {},
   "outputs": [
    {
     "name": "stdout",
     "output_type": "stream",
     "text": [
      "0.9987878787878788\n"
     ]
    }
   ],
   "source": [
    "neg_p_1 = f(n_1 - m_1, 2) / ck_1 # Вероятность вытащить 2 черных шара из 1го ящ\n",
    "neg_p_2 = f(n_2 - m_2, 2) / ck_2 # Вероятность вытащить 2 черных шара из 2го ящ\n",
    "res_3 = 1 - neg_p_1 * neg_p_2\n",
    "print(res_3)"
   ]
  }
 ],
 "metadata": {
  "kernelspec": {
   "display_name": "Python 3",
   "language": "python",
   "name": "python3"
  },
  "language_info": {
   "codemirror_mode": {
    "name": "ipython",
    "version": 3
   },
   "file_extension": ".py",
   "mimetype": "text/x-python",
   "name": "python",
   "nbconvert_exporter": "python",
   "pygments_lexer": "ipython3",
   "version": "3.11.1"
  },
  "orig_nbformat": 4
 },
 "nbformat": 4,
 "nbformat_minor": 2
}
